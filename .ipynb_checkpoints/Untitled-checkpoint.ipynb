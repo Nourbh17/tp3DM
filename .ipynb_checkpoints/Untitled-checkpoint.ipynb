{
 "cells": [
  {
   "cell_type": "code",
   "execution_count": 132,
   "id": "3e294c77-74e5-44b5-8452-6b78d27fe302",
   "metadata": {},
   "outputs": [],
   "source": [
    "from sklearn import datasets,naive_bayes\n",
    "from collections import Counter\n",
    "import numpy \n",
    "import random\n",
    "import matplotlib\n",
    "import pylab as pl\n",
    "from itertools import cycle"
   ]
  },
  {
   "cell_type": "code",
   "execution_count": 6,
   "id": "f5528276-d2a7-431d-a54d-04271c1e34a6",
   "metadata": {},
   "outputs": [
    {
     "name": "stdout",
     "output_type": "stream",
     "text": [
      "['sepal length (cm)', 'sepal width (cm)', 'petal length (cm)', 'petal width (cm)']\n",
      "[[5.1 3.5 1.4 0.2]\n",
      " [4.9 3.  1.4 0.2]\n",
      " [4.7 3.2 1.3 0.2]\n",
      " [4.6 3.1 1.5 0.2]\n",
      " [5.  3.6 1.4 0.2]\n",
      " [5.4 3.9 1.7 0.4]\n",
      " [4.6 3.4 1.4 0.3]\n",
      " [5.  3.4 1.5 0.2]\n",
      " [4.4 2.9 1.4 0.2]\n",
      " [4.9 3.1 1.5 0.1]\n",
      " [5.4 3.7 1.5 0.2]\n",
      " [4.8 3.4 1.6 0.2]\n",
      " [4.8 3.  1.4 0.1]\n",
      " [4.3 3.  1.1 0.1]\n",
      " [5.8 4.  1.2 0.2]\n",
      " [5.7 4.4 1.5 0.4]\n",
      " [5.4 3.9 1.3 0.4]\n",
      " [5.1 3.5 1.4 0.3]\n",
      " [5.7 3.8 1.7 0.3]\n",
      " [5.1 3.8 1.5 0.3]\n",
      " [5.4 3.4 1.7 0.2]\n",
      " [5.1 3.7 1.5 0.4]\n",
      " [4.6 3.6 1.  0.2]\n",
      " [5.1 3.3 1.7 0.5]\n",
      " [4.8 3.4 1.9 0.2]\n",
      " [5.  3.  1.6 0.2]\n",
      " [5.  3.4 1.6 0.4]\n",
      " [5.2 3.5 1.5 0.2]\n",
      " [5.2 3.4 1.4 0.2]\n",
      " [4.7 3.2 1.6 0.2]\n",
      " [4.8 3.1 1.6 0.2]\n",
      " [5.4 3.4 1.5 0.4]\n",
      " [5.2 4.1 1.5 0.1]\n",
      " [5.5 4.2 1.4 0.2]\n",
      " [4.9 3.1 1.5 0.2]\n",
      " [5.  3.2 1.2 0.2]\n",
      " [5.5 3.5 1.3 0.2]\n",
      " [4.9 3.6 1.4 0.1]\n",
      " [4.4 3.  1.3 0.2]\n",
      " [5.1 3.4 1.5 0.2]\n",
      " [5.  3.5 1.3 0.3]\n",
      " [4.5 2.3 1.3 0.3]\n",
      " [4.4 3.2 1.3 0.2]\n",
      " [5.  3.5 1.6 0.6]\n",
      " [5.1 3.8 1.9 0.4]\n",
      " [4.8 3.  1.4 0.3]\n",
      " [5.1 3.8 1.6 0.2]\n",
      " [4.6 3.2 1.4 0.2]\n",
      " [5.3 3.7 1.5 0.2]\n",
      " [5.  3.3 1.4 0.2]\n",
      " [7.  3.2 4.7 1.4]\n",
      " [6.4 3.2 4.5 1.5]\n",
      " [6.9 3.1 4.9 1.5]\n",
      " [5.5 2.3 4.  1.3]\n",
      " [6.5 2.8 4.6 1.5]\n",
      " [5.7 2.8 4.5 1.3]\n",
      " [6.3 3.3 4.7 1.6]\n",
      " [4.9 2.4 3.3 1. ]\n",
      " [6.6 2.9 4.6 1.3]\n",
      " [5.2 2.7 3.9 1.4]\n",
      " [5.  2.  3.5 1. ]\n",
      " [5.9 3.  4.2 1.5]\n",
      " [6.  2.2 4.  1. ]\n",
      " [6.1 2.9 4.7 1.4]\n",
      " [5.6 2.9 3.6 1.3]\n",
      " [6.7 3.1 4.4 1.4]\n",
      " [5.6 3.  4.5 1.5]\n",
      " [5.8 2.7 4.1 1. ]\n",
      " [6.2 2.2 4.5 1.5]\n",
      " [5.6 2.5 3.9 1.1]\n",
      " [5.9 3.2 4.8 1.8]\n",
      " [6.1 2.8 4.  1.3]\n",
      " [6.3 2.5 4.9 1.5]\n",
      " [6.1 2.8 4.7 1.2]\n",
      " [6.4 2.9 4.3 1.3]\n",
      " [6.6 3.  4.4 1.4]\n",
      " [6.8 2.8 4.8 1.4]\n",
      " [6.7 3.  5.  1.7]\n",
      " [6.  2.9 4.5 1.5]\n",
      " [5.7 2.6 3.5 1. ]\n",
      " [5.5 2.4 3.8 1.1]\n",
      " [5.5 2.4 3.7 1. ]\n",
      " [5.8 2.7 3.9 1.2]\n",
      " [6.  2.7 5.1 1.6]\n",
      " [5.4 3.  4.5 1.5]\n",
      " [6.  3.4 4.5 1.6]\n",
      " [6.7 3.1 4.7 1.5]\n",
      " [6.3 2.3 4.4 1.3]\n",
      " [5.6 3.  4.1 1.3]\n",
      " [5.5 2.5 4.  1.3]\n",
      " [5.5 2.6 4.4 1.2]\n",
      " [6.1 3.  4.6 1.4]\n",
      " [5.8 2.6 4.  1.2]\n",
      " [5.  2.3 3.3 1. ]\n",
      " [5.6 2.7 4.2 1.3]\n",
      " [5.7 3.  4.2 1.2]\n",
      " [5.7 2.9 4.2 1.3]\n",
      " [6.2 2.9 4.3 1.3]\n",
      " [5.1 2.5 3.  1.1]\n",
      " [5.7 2.8 4.1 1.3]\n",
      " [6.3 3.3 6.  2.5]\n",
      " [5.8 2.7 5.1 1.9]\n",
      " [7.1 3.  5.9 2.1]\n",
      " [6.3 2.9 5.6 1.8]\n",
      " [6.5 3.  5.8 2.2]\n",
      " [7.6 3.  6.6 2.1]\n",
      " [4.9 2.5 4.5 1.7]\n",
      " [7.3 2.9 6.3 1.8]\n",
      " [6.7 2.5 5.8 1.8]\n",
      " [7.2 3.6 6.1 2.5]\n",
      " [6.5 3.2 5.1 2. ]\n",
      " [6.4 2.7 5.3 1.9]\n",
      " [6.8 3.  5.5 2.1]\n",
      " [5.7 2.5 5.  2. ]\n",
      " [5.8 2.8 5.1 2.4]\n",
      " [6.4 3.2 5.3 2.3]\n",
      " [6.5 3.  5.5 1.8]\n",
      " [7.7 3.8 6.7 2.2]\n",
      " [7.7 2.6 6.9 2.3]\n",
      " [6.  2.2 5.  1.5]\n",
      " [6.9 3.2 5.7 2.3]\n",
      " [5.6 2.8 4.9 2. ]\n",
      " [7.7 2.8 6.7 2. ]\n",
      " [6.3 2.7 4.9 1.8]\n",
      " [6.7 3.3 5.7 2.1]\n",
      " [7.2 3.2 6.  1.8]\n",
      " [6.2 2.8 4.8 1.8]\n",
      " [6.1 3.  4.9 1.8]\n",
      " [6.4 2.8 5.6 2.1]\n",
      " [7.2 3.  5.8 1.6]\n",
      " [7.4 2.8 6.1 1.9]\n",
      " [7.9 3.8 6.4 2. ]\n",
      " [6.4 2.8 5.6 2.2]\n",
      " [6.3 2.8 5.1 1.5]\n",
      " [6.1 2.6 5.6 1.4]\n",
      " [7.7 3.  6.1 2.3]\n",
      " [6.3 3.4 5.6 2.4]\n",
      " [6.4 3.1 5.5 1.8]\n",
      " [6.  3.  4.8 1.8]\n",
      " [6.9 3.1 5.4 2.1]\n",
      " [6.7 3.1 5.6 2.4]\n",
      " [6.9 3.1 5.1 2.3]\n",
      " [5.8 2.7 5.1 1.9]\n",
      " [6.8 3.2 5.9 2.3]\n",
      " [6.7 3.3 5.7 2.5]\n",
      " [6.7 3.  5.2 2.3]\n",
      " [6.3 2.5 5.  1.9]\n",
      " [6.5 3.  5.2 2. ]\n",
      " [6.2 3.4 5.4 2.3]\n",
      " [5.9 3.  5.1 1.8]]\n",
      "['setosa' 'versicolor' 'virginica']\n",
      "[0 0 0 0 0 0 0 0 0 0 0 0 0 0 0 0 0 0 0 0 0 0 0 0 0 0 0 0 0 0 0 0 0 0 0 0 0\n",
      " 0 0 0 0 0 0 0 0 0 0 0 0 0 1 1 1 1 1 1 1 1 1 1 1 1 1 1 1 1 1 1 1 1 1 1 1 1\n",
      " 1 1 1 1 1 1 1 1 1 1 1 1 1 1 1 1 1 1 1 1 1 1 1 1 1 1 2 2 2 2 2 2 2 2 2 2 2\n",
      " 2 2 2 2 2 2 2 2 2 2 2 2 2 2 2 2 2 2 2 2 2 2 2 2 2 2 2 2 2 2 2 2 2 2 2 2 2\n",
      " 2 2]\n"
     ]
    }
   ],
   "source": [
    "irisData = datasets.load_iris()\n",
    "print (irisData.feature_names)\n",
    "print (irisData.data)\n",
    "print (irisData.target_names)\n",
    "print (irisData.target)\n",
    "\n"
   ]
  },
  {
   "cell_type": "code",
   "execution_count": 23,
   "id": "0916ea0c-d0f9-4539-9c20-2544e6bb9374",
   "metadata": {},
   "outputs": [
    {
     "data": {
      "text/plain": [
       "(150, 4)"
      ]
     },
     "execution_count": 23,
     "metadata": {},
     "output_type": "execute_result"
    }
   ],
   "source": [
    "irisData.data.shape"
   ]
  },
  {
   "cell_type": "code",
   "execution_count": 22,
   "id": "152e6d33-c985-460c-bed7-1e84ce020f8f",
   "metadata": {},
   "outputs": [
    {
     "name": "stdout",
     "output_type": "stream",
     "text": [
      "Setosa:  50\n",
      "versicolor: 50\n",
      "virginica: 50\n"
     ]
    }
   ],
   "source": [
    "print(\"Setosa: \",len(irisData.target[irisData.target ==0]))\n",
    "print(\"versicolor:\",  len(irisData.target[irisData.target ==1]))\n",
    "print(\"virginica:\",len(irisData.target[irisData.target ==2]))"
   ]
  },
  {
   "cell_type": "code",
   "execution_count": 25,
   "id": "c6569c53-1763-40d1-acbf-2aa280305436",
   "metadata": {},
   "outputs": [
    {
     "name": "stdout",
     "output_type": "stream",
     "text": [
      "Counter({0: 50, 1: 50, 2: 50})\n"
     ]
    }
   ],
   "source": [
    "print(Counter(irisData.target))"
   ]
  },
  {
   "cell_type": "code",
   "execution_count": 26,
   "id": "cc0136bf-b9b1-4801-a3de-7748f8e56230",
   "metadata": {},
   "outputs": [
    {
     "data": {
      "text/plain": [
       "array([5.4, 3.4, 1.5, 0.4])"
      ]
     },
     "execution_count": 26,
     "metadata": {},
     "output_type": "execute_result"
    }
   ],
   "source": [
    "irisData.data[31]"
   ]
  },
  {
   "cell_type": "code",
   "execution_count": 28,
   "id": "735aa3c7-64d9-4296-9360-7d41a7b995e3",
   "metadata": {},
   "outputs": [
    {
     "data": {
      "text/plain": [
       "array([0, 0, 0, 0, 0, 0, 0, 0, 0, 0, 0, 0, 0, 0, 0, 0, 0, 0, 0, 0, 0, 0,\n",
       "       0, 0, 0, 0, 0, 0, 0, 0, 0])"
      ]
     },
     "execution_count": 28,
     "metadata": {},
     "output_type": "execute_result"
    }
   ],
   "source": [
    "irisData.target[0:31]"
   ]
  },
  {
   "cell_type": "code",
   "execution_count": 87,
   "id": "aab3e054-464b-4abb-a405-a648cd240b65",
   "metadata": {},
   "outputs": [],
   "source": [
    "def plot_2D(data, target, target_names):\n",
    "    colors = cycle('rgbcmykw') # cycle de couleurs\n",
    "    target_ids = range(len(target_names))\n",
    "    pl.figure()\n",
    "    for i, c, label in zip(target_ids, colors, target_names):\n",
    "        pl.scatter(data[target == i, 2], data[target == i, 3], c=c, label=label)\n",
    "   \n",
    "    pl.plot([2.5,2.5], [0,3])\n",
    "    pl.plot([0.75,7], [0.75,0.75], 'b--')\n",
    "    pl.legend()\n",
    "    pl.show()\n",
    "\n",
    "\n"
   ]
  },
  {
   "cell_type": "code",
   "execution_count": 88,
   "id": "97832dba-402f-4e64-8d2e-8d3f53591faa",
   "metadata": {},
   "outputs": [
    {
     "data": {
      "image/png": "[encoded data removed]",
      "text/plain": [
       "<Figure size 640x480 with 1 Axes>"
      ]
     },
     "metadata": {},
     "output_type": "display_data"
    }
   ],
   "source": [
    "plot_2D(irisData.data, irisData.target, irisData.target_names)"
   ]
  },
  {
   "cell_type": "code",
   "execution_count": 106,
   "id": "431d1da3-b602-408d-b009-3aff699bdf43",
   "metadata": {},
   "outputs": [
    {
     "name": "stdout",
     "output_type": "stream",
     "text": [
      "[0]\n",
      "[2]\n",
      "[0 0 0 0 0 0 0 0 0 0 0 0 0 0 0 0 0 0 0 0 0 0 0 0 0 0 0 0 0 0 0 0 0 0 0 0 0\n",
      " 0 0 0 0 0 0 0 0 0 0 0 0 0 1 1 1 1 1 1 1 1 1 1 1 1 1 1 1 1 1 1 2 1 2 1 2 1\n",
      " 1 1 1 1 1 1 1 1 1 2 1 1 1 1 1 1 1 1 1 1 1 1 1 1 1 1 2 2 2 2 2 2 2 2 2 2 2\n",
      " 2 2 2 2 2 2 2 2 2 2 2 2 2 2 2 2 2 2 1 2 1 2 1 2 2 2 2 2 2 2 2 2 2 2 2 2 2\n",
      " 2 2]\n"
     ]
    }
   ],
   "source": [
    "nb = naive_bayes.MultinomialNB(fit_prior=True)# un algo d'apprentissage\n",
    "nb.fit(irisData.data[:], irisData.target[:])\n",
    "p31 = nb.predict(irisData.data[[31]])\n",
    "print (p31)\n",
    "plast = nb.predict(irisData.data[[-1]])\n",
    "print (plast)\n",
    "p = nb.predict(irisData.data[:])\n",
    "print (p)"
   ]
  },
  {
   "cell_type": "code",
   "execution_count": 107,
   "id": "8d45d515-66f4-4077-bb84-291f35d10628",
   "metadata": {},
   "outputs": [
    {
     "data": {
      "text/plain": [
       "array([1, 1, 1, 1, 1, 1, 1, 1, 1, 1, 1, 1, 1, 1, 1, 1, 1, 1, 1, 1, 1, 1,\n",
       "       1, 1, 1, 1, 1, 1, 1, 1, 1, 1, 1, 1, 1, 1, 1, 1, 1, 1, 1, 1, 1, 1,\n",
       "       1, 1, 1, 1, 1])"
      ]
     },
     "execution_count": 107,
     "metadata": {},
     "output_type": "execute_result"
    }
   ],
   "source": [
    "nb = naive_bayes.MultinomialNB(fit_prior=True)\n",
    "nb.fit(irisData.data[:99], irisData.target[:99])\n",
    "nb.predict(irisData.data[100:149])"
   ]
  },
  {
   "cell_type": "code",
   "execution_count": 108,
   "id": "6fe71b60-2666-49ff-9575-fa375fc788b6",
   "metadata": {},
   "outputs": [
    {
     "name": "stdout",
     "output_type": "stream",
     "text": [
      "7\n",
      "0.04666666666666667\n"
     ]
    }
   ],
   "source": [
    "ea = 0\n",
    "for i in range(len(irisData.data)):\n",
    "    if (p[i] != irisData.target[i]):\n",
    "        ea = ea+1\n",
    "print(ea)\n",
    "print (ea/len(irisData.data))"
   ]
  },
  {
   "cell_type": "code",
   "execution_count": 116,
   "id": "ef9c7347-5aa8-4eed-9643-679925293094",
   "metadata": {},
   "outputs": [
    {
     "data": {
      "text/plain": [
       "(array([ 68,  70,  72,  83, 129, 131, 133], dtype=int64),)"
      ]
     },
     "execution_count": 116,
     "metadata": {},
     "output_type": "execute_result"
    }
   ],
   "source": [
    "numpy.nonzero(p-irisData.target)"
   ]
  },
  {
   "cell_type": "code",
   "execution_count": 128,
   "id": "8508a5a9-2f34-4392-98b3-70134e22208f",
   "metadata": {},
   "outputs": [
    {
     "data": {
      "text/plain": [
       "0.6666666666666666"
      ]
     },
     "execution_count": 128,
     "metadata": {},
     "output_type": "execute_result"
    }
   ],
   "source": [
    "nb.score(irisData.data,irisData.target)\n"
   ]
  },
  {
   "cell_type": "code",
   "execution_count": 138,
   "id": "e515b44a-d15a-494c-8c79-03824960f422",
   "metadata": {},
   "outputs": [
    {
     "name": "stdout",
     "output_type": "stream",
     "text": [
      "Taille de S1 (data): 100\n",
      "Taille de S2 (data): 50\n"
     ]
    }
   ],
   "source": [
    "def split(S):\n",
    "    # Mélangez les indices de l'échantillon\n",
    "    indices = list(range(len(S.data)))\n",
    "    random.shuffle(indices)\n",
    "\n",
    "    # Calculez la taille de S1 en fonction de 2/3 de la taille de S\n",
    "    size_s1 = int(2/3 * len(S.data))\n",
    "\n",
    "    # Divisez les indices en deux parties : indices_s1 et indices_s2\n",
    "    indices_s1 = indices[:size_s1]\n",
    "    indices_s2 = indices[size_s1:]\n",
    "\n",
    "    # Créez les ensembles de données S1 et S2 en utilisant les indices calculés\n",
    "    data_s1 = S.data[indices_s1]\n",
    "    target_s1 = S.target[indices_s1]\n",
    "    data_s2 = S.data[indices_s2]\n",
    "    target_s2 = S.target[indices_s2]\n",
    "\n",
    "    return [data_s1, target_s1, data_s2, target_s2]\n",
    "\n",
    "\n",
    "dataS1, targetS1, dataS2, targetS2 = split(irisData)\n",
    "\n",
    "# Vérification des tailles\n",
    "print(\"Taille de S1 (data):\", len(dataS1))\n",
    "print(\"Taille de S2 (data):\", len(dataS2))\n",
    "\n"
   ]
  },
  {
   "cell_type": "code",
   "execution_count": 144,
   "id": "38d0c341-6fe4-4833-b319-957a2928b80f",
   "metadata": {},
   "outputs": [
    {
     "name": "stdout",
     "output_type": "stream",
     "text": [
      "Taux d'erreur estimé avec Naive Bayes en utilisant split: 0.040000000000000036\n"
     ]
    }
   ],
   "source": [
    "from sklearn.naive_bayes import GaussianNB\n",
    "\n",
    "def test(S, clf):\n",
    "    dataS1, targetS1, dataS2, targetS2 = split(S)\n",
    "    # Entraînez le modèle sur les données d'entraînement (S1)\n",
    "    clf.fit(dataS1, targetS1)\n",
    "\n",
    "    # Faites des prédictions sur les données de test (S2)\n",
    "    predictions = clf.predict(dataS2)\n",
    "\n",
    "    # Calculez le taux d'erreur en comparant les prédictions aux véritables étiquettes\n",
    "    error_rate = 1 - (predictions == targetS2).mean()\n",
    "\n",
    "    return error_rate\n",
    "\n",
    "clf = GaussianNB()\n",
    "error_rate = test(irisData, clf)\n",
    "\n",
    "print(\"Taux d'erreur estimé avec Naive Bayes en utilisant split:\", error_rate)\n",
    "\n"
   ]
  },
  {
   "cell_type": "code",
   "execution_count": 146,
   "id": "6aebea42-b111-4340-88c5-3c7eac6a0954",
   "metadata": {},
   "outputs": [
    {
     "name": "stdout",
     "output_type": "stream",
     "text": [
      "Taux d'erreur moyen pour t=10: 0.04800000000000002\n",
      "Taux d'erreur moyen pour t=50: 0.04833333333333336\n",
      "Taux d'erreur moyen pour t=100: 0.04687500000000003\n",
      "Taux d'erreur moyen pour t=200: 0.04627777777777781\n",
      "Taux d'erreur moyen pour t=500: 0.04730232558139536\n",
      "Taux d'erreur moyen pour t=1000: 0.04783870967741937\n"
     ]
    }
   ],
   "source": [
    "t_values = [10, 50, 100, 200, 500, 1000]\n",
    "\n",
    "\n",
    "for t in t_values:\n",
    "    clf = GaussianNB()\n",
    "    for _ in range(t):\n",
    "        error_rates = []\n",
    "        error_rate = test(irisData, clf)\n",
    "        error_rates.append(error_rate)\n",
    "    mean_error = np.mean(error_rates)\n",
    "    print(f\"Taux d'erreur moyen pour t={t}: {mean_error}\")"
   ]
  },
  {
   "cell_type": "code",
   "execution_count": null,
   "id": "2ec13015-d30a-4b60-9386-3bf30cba5e3f",
   "metadata": {},
   "outputs": [],
   "source": []
  }
 ],
 "metadata": {
  "kernelspec": {
   "display_name": "Python 3 (ipykernel)",
   "language": "python",
   "name": "python3"
  },
  "language_info": {
   "codemirror_mode": {
    "name": "ipython",
    "version": 3
   },
   "file_extension": ".py",
   "mimetype": "text/x-python",
   "name": "python",
   "nbconvert_exporter": "python",
   "pygments_lexer": "ipython3",
   "version": "3.11.5"
  }
 },
 "nbformat": 4,
 "nbformat_minor": 5
}
